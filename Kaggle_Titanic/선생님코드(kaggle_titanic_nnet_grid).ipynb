{
 "cells": [
  {
   "cell_type": "code",
   "execution_count": null,
   "metadata": {
    "ExecuteTime": {
     "end_time": "2021-03-06T14:18:44.666412Z",
     "start_time": "2021-03-06T14:18:42.570941Z"
    },
    "scrolled": true
   },
   "outputs": [],
   "source": [
    "# [쉬움주의] 케글 타이타닉 로지스틱 회귀\n",
    "\n",
    "from sklearn import metrics\n",
    "import numpy as np\n",
    "\n",
    "# 1단계 csv ---> 데이터 프레임으로 변환\n",
    "\n",
    "import pandas as pd\n",
    "import seaborn as sns\n",
    "\n",
    "df = pd.read_csv(\"C:\\\\Users\\\\icecr\\\\OneDrive\\\\CSV_file\\\\titanic\\\\train.csv\")\n",
    "#df = pd.read_csv(\"C:\\\\Users\\\\82103\\\\OneDrive\\\\CSV_file\\\\titanic\\\\train.csv\")  #for notebook\n",
    "df"
   ]
  },
  {
   "cell_type": "code",
   "execution_count": null,
   "metadata": {
    "ExecuteTime": {
     "end_time": "2021-03-06T14:18:46.325577Z",
     "start_time": "2021-03-06T14:18:46.322577Z"
    }
   },
   "outputs": [],
   "source": [
    "# 컬럼이 모두다 출력될 수 있도록 출력할 열의 개수 한도를 늘리기\n",
    "pd.set_option('display.max_columns',15)"
   ]
  },
  {
   "cell_type": "code",
   "execution_count": null,
   "metadata": {
    "ExecuteTime": {
     "end_time": "2021-03-06T14:18:48.944373Z",
     "start_time": "2021-03-06T14:18:48.915366Z"
    }
   },
   "outputs": [],
   "source": [
    "# 2단계 결측치 확인하고 제거하거나 치환한다.\n",
    "# 2.1 타이타닉 데이터 프레임의 자료형을 확인한다.\n",
    "\n",
    "mask4 = (df.Age<10) | (df.Sex=='female') \n",
    "df['child_women']=mask4.astype(int)\n",
    "df"
   ]
  },
  {
   "cell_type": "code",
   "execution_count": null,
   "metadata": {
    "ExecuteTime": {
     "end_time": "2021-03-05T07:12:34.476598Z",
     "start_time": "2021-03-05T07:12:34.471597Z"
    }
   },
   "outputs": [],
   "source": [
    "print ( df.columns)"
   ]
  },
  {
   "cell_type": "code",
   "execution_count": null,
   "metadata": {
    "ExecuteTime": {
     "end_time": "2021-03-06T14:18:52.128099Z",
     "start_time": "2021-03-06T14:18:52.115096Z"
    },
    "scrolled": true
   },
   "outputs": [],
   "source": [
    "# embark 와 embark_town 이 같은 데이터여서 embark 컬럼을 삭제해야함\n",
    "\n",
    "rdf = df.drop(['PassengerId','Cabin','Name','Ticket'], axis =1)\n",
    "rdf"
   ]
  },
  {
   "cell_type": "markdown",
   "metadata": {},
   "source": [
    "#### 결측치가 있는 컬럼을 확인합니다."
   ]
  },
  {
   "cell_type": "code",
   "execution_count": null,
   "metadata": {
    "ExecuteTime": {
     "end_time": "2021-03-06T14:18:53.871575Z",
     "start_time": "2021-03-06T14:18:53.866574Z"
    }
   },
   "outputs": [],
   "source": [
    "df.isnull().sum()"
   ]
  },
  {
   "cell_type": "code",
   "execution_count": null,
   "metadata": {
    "ExecuteTime": {
     "end_time": "2021-03-06T14:18:54.984986Z",
     "start_time": "2021-03-06T14:18:54.978984Z"
    }
   },
   "outputs": [],
   "source": [
    "# 2.4 age(나이) 열에 나이가 없는 모든행을 삭제한다.\n",
    "# 데이터가 한개라도 없으면 drop 해라 (how = 'any')\n",
    "# 모든 데이터가 없으면 drop 해라 (how = 'all')\n",
    "\n",
    "print(rdf.shape)\n",
    "\n",
    "#rdf = rdf.dropna( subset=['Age'], how='all', axis=0)\n",
    "#rdf['Age']=rdf['Age'].fillna(method='ffill', inplace=True)\n",
    "\n",
    "most_freq = rdf['Age'].value_counts(dropna=True).idxmax()  \n",
    "most_freq"
   ]
  },
  {
   "cell_type": "code",
   "execution_count": null,
   "metadata": {
    "ExecuteTime": {
     "end_time": "2021-03-06T14:18:57.120402Z",
     "start_time": "2021-03-06T14:18:57.116401Z"
    }
   },
   "outputs": [],
   "source": [
    "rdf['Age'].fillna(31, inplace=True)\n",
    "rdf.isnull().sum()"
   ]
  },
  {
   "cell_type": "code",
   "execution_count": null,
   "metadata": {
    "ExecuteTime": {
     "end_time": "2021-03-06T14:18:58.769995Z",
     "start_time": "2021-03-06T14:18:58.762994Z"
    }
   },
   "outputs": [],
   "source": [
    "# 2.5 embark 열의 NaN 값을 승선도시중 가장 많이 출현한 값으로 치환하기\n",
    "most_freq = rdf['Embarked'].value_counts().idxmax()\n",
    "print(most_freq)\n",
    "rdf['Embarked'].fillna(most_freq, inplace = True)\n",
    "rdf.isnull().sum()"
   ]
  },
  {
   "cell_type": "code",
   "execution_count": null,
   "metadata": {
    "ExecuteTime": {
     "end_time": "2021-03-06T14:18:59.726512Z",
     "start_time": "2021-03-06T14:18:59.723510Z"
    }
   },
   "outputs": [],
   "source": [
    "# 2.6 fare 의 이상치를 제거합니다.\n",
    "\n",
    "local_std = rdf.Fare.std() * 5  \n",
    "print(local_std)"
   ]
  },
  {
   "cell_type": "code",
   "execution_count": null,
   "metadata": {
    "ExecuteTime": {
     "end_time": "2021-03-06T14:19:05.773900Z",
     "start_time": "2021-03-06T14:19:05.770899Z"
    }
   },
   "outputs": [],
   "source": [
    "rdf = rdf[:][ rdf['Fare'] < local_std  ]"
   ]
  },
  {
   "cell_type": "code",
   "execution_count": null,
   "metadata": {
    "ExecuteTime": {
     "end_time": "2021-03-06T14:19:06.638407Z",
     "start_time": "2021-03-06T14:19:06.635416Z"
    }
   },
   "outputs": [],
   "source": [
    "len(rdf)"
   ]
  },
  {
   "cell_type": "code",
   "execution_count": null,
   "metadata": {
    "ExecuteTime": {
     "end_time": "2021-03-06T14:19:07.399425Z",
     "start_time": "2021-03-06T14:19:07.387421Z"
    }
   },
   "outputs": [],
   "source": [
    "# 3단계 범주형 데이터를 숫자형으로 변환하기\n",
    "# 3.1 feature selection (분석에 필요한 속성을 선택)\n",
    "#ndf = rdf[['Survived','Pclass','Sex','Age','Sibsp','Parch','Embarked','child_women']]\n",
    "\n",
    "ndf = rdf\n",
    "ndf"
   ]
  },
  {
   "cell_type": "code",
   "execution_count": null,
   "metadata": {
    "ExecuteTime": {
     "end_time": "2021-03-06T14:19:08.226512Z",
     "start_time": "2021-03-06T14:19:08.218520Z"
    }
   },
   "outputs": [],
   "source": [
    "# 선택된 컬럼중 2개(sex, embarked) 가 범주형이다.\n",
    "#3.2 범주형 데이터를 숫자로 변환하기(원핫 인코딩)\n",
    "\n",
    "gender = pd.get_dummies(ndf['Sex'])\n",
    "ndf = pd.concat([ndf,gender], axis= 1)\n",
    "onehot_embarked = pd.get_dummies(ndf['Embarked'])\n",
    "ndf = pd.concat([ndf,onehot_embarked],axis=1)\n",
    "ndf.drop(['Sex','Embarked'], axis=1, inplace = True)"
   ]
  },
  {
   "cell_type": "code",
   "execution_count": null,
   "metadata": {
    "ExecuteTime": {
     "end_time": "2021-03-06T14:19:10.597890Z",
     "start_time": "2021-03-06T14:19:10.586896Z"
    }
   },
   "outputs": [],
   "source": [
    "ndf"
   ]
  },
  {
   "cell_type": "code",
   "execution_count": null,
   "metadata": {
    "ExecuteTime": {
     "end_time": "2021-03-06T14:28:10.219331Z",
     "start_time": "2021-03-06T14:28:10.211330Z"
    }
   },
   "outputs": [],
   "source": [
    "# 4단계 정규화\n",
    "# 4.1 독립변수와 종속변수(라벨) 을 지정한다.\n",
    "# survived  pclass   age  sibsp  parch  female  male  C  Q  S\n",
    "#   라벨                       데이터\n",
    "# 종속변수                     독립변수\n",
    "\n",
    "print(ndf.columns)\n",
    "x = ndf[ ['Fare', 'Pclass', 'Age' ,'SibSp', 'Parch' ,'female' ,'male', 'C' ,'Q' ,'S','child_women'] ]\n",
    "#x = ndf[ ['Fare', 'Pclass', 'Age' ,'SibSp', 'Parch' ,'female' ,'male', 'child_women', 'Parch'] ]\n",
    "\n",
    "y = ndf['Survived'] # 종속변수\n",
    "x.info()"
   ]
  },
  {
   "cell_type": "code",
   "execution_count": null,
   "metadata": {
    "ExecuteTime": {
     "end_time": "2021-03-06T14:19:14.858002Z",
     "start_time": "2021-03-06T14:19:14.851008Z"
    }
   },
   "outputs": [],
   "source": [
    "# 4.2 독립변수들을 정규화 한다.\n",
    "from sklearn import preprocessing\n",
    "X = preprocessing.StandardScaler().fit(x).transform(x)"
   ]
  },
  {
   "cell_type": "code",
   "execution_count": null,
   "metadata": {
    "ExecuteTime": {
     "end_time": "2021-03-05T07:12:34.626632Z",
     "start_time": "2021-03-05T07:12:34.618630Z"
    }
   },
   "outputs": [],
   "source": [
    "X"
   ]
  },
  {
   "cell_type": "code",
   "execution_count": null,
   "metadata": {
    "ExecuteTime": {
     "end_time": "2021-03-06T11:04:30.110095Z",
     "start_time": "2021-03-06T11:04:30.102071Z"
    }
   },
   "outputs": [],
   "source": [
    "# 7단계 테스트 데이터로 예측을 한다.\n",
    "\n",
    "import pandas as pd\n",
    "x_ktest = pd.read_csv(\"C:\\\\Users\\\\icecr\\\\OneDrive\\\\CSV_file\\\\titanic\\\\test.csv\")\n",
    "#ktest = pd.read_csv(\"C:\\\\Users\\\\82103\\\\OneDrive\\\\CSV_file\\\\titanic\\\\test.csv\")\n",
    "x_ktest.PassengerId"
   ]
  },
  {
   "cell_type": "markdown",
   "metadata": {},
   "source": [
    "#### 테스트 데이터도 훈련 데이터와 똑같이 파생변수 추가합니다. "
   ]
  },
  {
   "cell_type": "code",
   "execution_count": null,
   "metadata": {
    "ExecuteTime": {
     "end_time": "2021-03-05T07:12:34.669641Z",
     "start_time": "2021-03-05T07:12:34.653637Z"
    }
   },
   "outputs": [],
   "source": [
    "mask4 = (x_ktest.Age<10) | (x_ktest.Sex=='female') \n",
    "x_ktest['child_women']=mask4.astype(int)\n",
    "x_ktest"
   ]
  },
  {
   "cell_type": "code",
   "execution_count": null,
   "metadata": {
    "ExecuteTime": {
     "end_time": "2021-03-05T07:12:34.682644Z",
     "start_time": "2021-03-05T07:12:34.670642Z"
    }
   },
   "outputs": [],
   "source": [
    "# 테스트 데이터도 필요없는 컬럼을 삭제합니다.\n",
    "\n",
    "rdf_x_ktest = x_ktest.drop(['PassengerId','Cabin','Name','Ticket'], axis =1)\n",
    "print(rdf_x_ktest)"
   ]
  },
  {
   "cell_type": "code",
   "execution_count": null,
   "metadata": {
    "ExecuteTime": {
     "end_time": "2021-03-05T07:12:34.688646Z",
     "start_time": "2021-03-05T07:12:34.684645Z"
    }
   },
   "outputs": [],
   "source": [
    "# 테스트 데이터의 나이의 결측치를 21로 채워넣습니다.\n",
    "rdf_x_ktest['Age'].fillna(31, inplace=True)\n",
    "rdf_x_ktest.isnull().sum()"
   ]
  },
  {
   "cell_type": "code",
   "execution_count": null,
   "metadata": {
    "ExecuteTime": {
     "end_time": "2021-03-05T07:12:34.701649Z",
     "start_time": "2021-03-05T07:12:34.689645Z"
    }
   },
   "outputs": [],
   "source": [
    "# 2.5 embark 열의 NaN 값을 승선도시중 가장 많이 출현한 값으로 치환하기\n",
    "most_freq = rdf_x_ktest['Embarked'].value_counts().idxmax()\n",
    "rdf_x_ktest['Embarked'].fillna(most_freq, inplace = True)\n",
    "print(rdf_x_ktest)"
   ]
  },
  {
   "cell_type": "code",
   "execution_count": null,
   "metadata": {
    "ExecuteTime": {
     "end_time": "2021-03-05T07:12:34.713651Z",
     "start_time": "2021-03-05T07:12:34.702648Z"
    }
   },
   "outputs": [],
   "source": [
    "# 2.6 fare 열의 NaN 값을 요금중 가장 많이 출현한 값으로 치환하기\n",
    "most_freq = rdf_x_ktest['Fare'].value_counts().idxmax()\n",
    "rdf_x_ktest['Fare'].fillna(most_freq, inplace = True)\n",
    "print(rdf_x_ktest)"
   ]
  },
  {
   "cell_type": "code",
   "execution_count": null,
   "metadata": {
    "ExecuteTime": {
     "end_time": "2021-03-05T07:12:34.718651Z",
     "start_time": "2021-03-05T07:12:34.714651Z"
    }
   },
   "outputs": [],
   "source": [
    "# 3단계 범주형 데이터를 숫자형으로 변환하기\n",
    "# 3.1 feature selection (분석에 필요한 속성을 선택)\n",
    "#ndf = rdf[['Survived','Pclass','Sex','Age','Sibsp','Parch','Embarked','child_women']]\n",
    "\n",
    "ndf_x_ktest = rdf_x_ktest"
   ]
  },
  {
   "cell_type": "code",
   "execution_count": null,
   "metadata": {
    "ExecuteTime": {
     "end_time": "2021-03-05T07:12:34.732656Z",
     "start_time": "2021-03-05T07:12:34.719652Z"
    }
   },
   "outputs": [],
   "source": [
    "ndf_x_ktest"
   ]
  },
  {
   "cell_type": "code",
   "execution_count": null,
   "metadata": {
    "ExecuteTime": {
     "end_time": "2021-03-05T07:12:34.747659Z",
     "start_time": "2021-03-05T07:12:34.734657Z"
    }
   },
   "outputs": [],
   "source": [
    "# 선택된 컬럼중 2개(sex, embarked) 가 범주형이다.\n",
    "#3.2 범주형 데이터를 숫자로 변환하기(원핫 인코딩)\n",
    "gender = pd.get_dummies(ndf_x_ktest['Sex'])\n",
    "ndf_x_ktest = pd.concat([ndf_x_ktest,gender], axis= 1)\n",
    "onehot_embarked = pd.get_dummies(ndf_x_ktest['Embarked'])\n",
    "ndf_x_ktest = pd.concat([ndf_x_ktest,onehot_embarked],axis=1)\n",
    "ndf_x_ktest.drop(['Sex','Embarked'], axis=1, inplace = True)"
   ]
  },
  {
   "cell_type": "code",
   "execution_count": null,
   "metadata": {
    "ExecuteTime": {
     "end_time": "2021-03-05T07:12:34.763662Z",
     "start_time": "2021-03-05T07:12:34.748659Z"
    }
   },
   "outputs": [],
   "source": [
    "ndf_x_ktest"
   ]
  },
  {
   "cell_type": "code",
   "execution_count": null,
   "metadata": {
    "ExecuteTime": {
     "end_time": "2021-03-05T07:12:34.770664Z",
     "start_time": "2021-03-05T07:12:34.764663Z"
    }
   },
   "outputs": [],
   "source": [
    "# 4단계 정규화\n",
    "# 4.1 독립변수와 종속변수(라벨) 을 지정한다.\n",
    "# survived  pclass   age  sibsp  parch  female  male  C  Q  S\n",
    "#   라벨                       데이터\n",
    "# 종속변수                     독립변수\n",
    "print(ndf_x_ktest.columns)\n",
    "x = ndf_x_ktest[ ['Fare','Pclass', 'Age' ,'SibSp', 'Parch' ,'female' ,'male', 'C' ,'Q' ,'S', 'child_women'] ]\n",
    "#x = ndf_x_ktest[ ['Fare','Pclass', 'Age' ,'SibSp', 'Parch' ,'female' ,'male', 'child_women','Parch'] ]\n",
    "\n",
    "print ( x.isnull().sum( axis=0)  )  "
   ]
  },
  {
   "cell_type": "code",
   "execution_count": null,
   "metadata": {
    "ExecuteTime": {
     "end_time": "2021-03-05T07:12:34.780666Z",
     "start_time": "2021-03-05T07:12:34.771664Z"
    }
   },
   "outputs": [],
   "source": [
    "#y = ndf_x_ktest['Survived'] # 종속변수\n",
    "\n",
    "# 4.2 독립변수들을 정규화 한다.\n",
    "from sklearn import preprocessing\n",
    "X_test = preprocessing.StandardScaler().fit(x).transform(x)\n",
    "print(len(X))\n",
    "print(X.shape)\n",
    "print(X_test.shape)"
   ]
  },
  {
   "cell_type": "code",
   "execution_count": null,
   "metadata": {
    "ExecuteTime": {
     "end_time": "2021-03-05T07:12:53.437388Z",
     "start_time": "2021-03-05T07:12:34.781666Z"
    }
   },
   "outputs": [],
   "source": [
    "from sklearn.neural_network  import  MLPClassifier\n",
    "from sklearn.model_selection import GridSearchCV\n",
    "\n",
    "param_grid = [\n",
    "        {\n",
    "            'activation' : ['identity', 'logistic', 'tanh', 'relu'],\n",
    "            'solver' : ['lbfgs', 'sgd', 'adam'],\n",
    "            'hidden_layer_sizes': [\n",
    "             (1,2),(2,2),(3,2),(4,2),(5,2),(6,2),(7,2),(8,2),(9,2),(10,2),(11,2), (12,2),(13,2),(14,2),(15,2),(16,2),(17,2),(18,2),(19,2),(20,2),(21,2)\n",
    "             ]\n",
    "        }\n",
    "       ]\n",
    " \n",
    "grid_dtree = GridSearchCV(MLPClassifier(), param_grid, cv=3, n_jobs = -1, verbose = 2 )\n",
    "\n",
    "grid_dtree.fit( X, y)"
   ]
  },
  {
   "cell_type": "code",
   "execution_count": null,
   "metadata": {
    "ExecuteTime": {
     "end_time": "2021-03-05T07:12:53.441389Z",
     "start_time": "2021-03-05T07:12:53.437388Z"
    }
   },
   "outputs": [],
   "source": [
    "print(\"Best parameters set found on development set:\")\n",
    "print(grid_dtree.best_params_) "
   ]
  },
  {
   "cell_type": "code",
   "execution_count": null,
   "metadata": {
    "ExecuteTime": {
     "end_time": "2021-03-05T07:12:53.451391Z",
     "start_time": "2021-03-05T07:12:53.442389Z"
    },
    "scrolled": true
   },
   "outputs": [],
   "source": [
    "# 7단계 테스트 데이터로 예측을 한다.\n",
    "\n",
    "y_hat = grid_dtree.predict( X_test )\n",
    "print(y_hat)\n",
    "\n",
    "for  i,a  in  enumerate(y_hat):\n",
    "    print (str(i+892) + ',' + str(a))\n",
    "    \n",
    "    "
   ]
  },
  {
   "cell_type": "code",
   "execution_count": null,
   "metadata": {
    "ExecuteTime": {
     "end_time": "2021-03-05T07:12:53.469396Z",
     "start_time": "2021-03-05T07:12:53.452392Z"
    }
   },
   "outputs": [],
   "source": [
    "x_ktest"
   ]
  },
  {
   "cell_type": "code",
   "execution_count": null,
   "metadata": {
    "ExecuteTime": {
     "end_time": "2021-03-05T07:12:53.477397Z",
     "start_time": "2021-03-05T07:12:53.470396Z"
    }
   },
   "outputs": [],
   "source": [
    "test_id =x_ktest.PassengerId\n",
    "pred = y_hat\n",
    "test_id"
   ]
  },
  {
   "cell_type": "code",
   "execution_count": null,
   "metadata": {
    "ExecuteTime": {
     "end_time": "2021-03-05T07:12:53.489401Z",
     "start_time": "2021-03-05T07:12:53.478398Z"
    }
   },
   "outputs": [],
   "source": [
    "submission = pd.DataFrame({'PassengerId':test_id,'Survived':pred})\n",
    "submission.to_csv(\"C:\\\\Users\\\\icecr\\\\OneDrive\\\\CSV_file\\\\titanic\\\\Sub_01.csv\",index=False)\n",
    "#submission.to_csv(\"C:\\\\Users\\\\82103\\\\OneDrive\\\\CSV_file\\\\titanic\\\\Sub_01.csv\",index=False)\n",
    "submission.head()\n"
   ]
  },
  {
   "cell_type": "code",
   "execution_count": null,
   "metadata": {},
   "outputs": [],
   "source": []
  },
  {
   "cell_type": "code",
   "execution_count": null,
   "metadata": {},
   "outputs": [],
   "source": []
  }
 ],
 "metadata": {
  "kernelspec": {
   "display_name": "Python 3",
   "language": "python",
   "name": "python3"
  },
  "language_info": {
   "codemirror_mode": {
    "name": "ipython",
    "version": 3
   },
   "file_extension": ".py",
   "mimetype": "text/x-python",
   "name": "python",
   "nbconvert_exporter": "python",
   "pygments_lexer": "ipython3",
   "version": "3.8.5"
  },
  "toc": {
   "base_numbering": 1,
   "nav_menu": {},
   "number_sections": true,
   "sideBar": true,
   "skip_h1_title": false,
   "title_cell": "Table of Contents",
   "title_sidebar": "Contents",
   "toc_cell": false,
   "toc_position": {},
   "toc_section_display": true,
   "toc_window_display": false
  }
 },
 "nbformat": 4,
 "nbformat_minor": 4
}
